{
 "cells": [
  {
   "cell_type": "code",
   "execution_count": 1,
   "metadata": {},
   "outputs": [
    {
     "name": "stdout",
     "output_type": "stream",
     "text": [
      "     0    1  2\n",
      "0  617  590 -1\n",
      "1  836   12  1\n",
      "2  933  239 -1\n",
      "3   85  622 -1\n",
      "4  886  204 -1\n",
      "     0    1  2\n",
      "0  196  242 -1\n",
      "1  186  302 -1\n",
      "2  244   51 -1\n",
      "3  166  346 -1\n",
      "4  298  474  1\n"
     ]
    }
   ],
   "source": [
    "\"\"\"This project is built for preference recommendation. \n",
    "\n",
    "Original training data (first column is user id, second column is movie id, \n",
    "third column is rating. To simplify the problem, only considering rating = 1\n",
    "as \"like\", rating = -1 as \"dislike\") has been offered. \n",
    "\n",
    "The goal is to predict users' preference on thoes movies they haven't watched\n",
    "yet and recommend highest rating movies to them. \n",
    "\n",
    "By comparing the test data with ground truth in the same format as training data,\n",
    "the confusion matrix containing true/false positives/negatives can be calculated \n",
    "and the accuracy of used algorithm can be estimated. \n",
    "\"\"\"\n",
    "\n",
    "import numpy as np\n",
    "import pandas as pd\n",
    "\n",
    "data_test = pd.read_csv('/Users/easonlian/Desktop/programming/bayesianml/ratings_test.csv', header=None)\n",
    "data_train = pd.read_csv('/Users/easonlian/Desktop/programming/bayesianml/ratings.csv', header=None)\n",
    "\n",
    "npdata_train= data_train.values\n",
    "print data_test.head()\n",
    "print data_train.head()"
   ]
  },
  {
   "cell_type": "code",
   "execution_count": 2,
   "metadata": {},
   "outputs": [],
   "source": [
    "\"\"\"Use Expectation-Maximization Algorithm for object recommendation problem. Assume that rating \n",
    "follows Bernoulli distribution and the unknown model parameters ui, vj (u: user id; v: movie id)\n",
    "follow normal distributions. By maximizing the posterior probability lnP(R,U,V), the unknown\n",
    "parameter U, V can be well estimated.\n",
    "\"\"\"\n",
    "\n",
    "#Store all data pairs in a dictionary so we can get the key and value very fast\n",
    "N = max(data_train[0])\n",
    "M = max(data_train[1])\n",
    "dic = {}\n",
    "Edic = {}\n",
    "ijpair = {}\n",
    "jipair = {}\n",
    "length = len(npdata_train)\n",
    "for i in range(length):\n",
    "    u_id = npdata_train[i, 0]\n",
    "    v_id = npdata_train[i, 1]\n",
    "    rij = npdata_train[i, 2]\n",
    "    dic[(u_id, v_id)] = rij\n",
    "    Edic[(u_id, v_id)] = 0\n",
    "    if u_id not in ijpair:\n",
    "        ijpair[u_id] = [v_id]\n",
    "    else: \n",
    "        ijpair[u_id] = ijpair[u_id] + [v_id]\n",
    "    if v_id not in jipair:\n",
    "        jipair[v_id] = [u_id]\n",
    "    else: \n",
    "        jipair[v_id] = jipair[v_id] + [u_id]"
   ]
  },
  {
   "cell_type": "code",
   "execution_count": 3,
   "metadata": {},
   "outputs": [],
   "source": [
    "#Initialize U, V. We assume the prior probability of U, V follows normal distribution \n",
    "d = 5\n",
    "Umatrix = [np.random.normal(0, np.sqrt(0.1), d) for x in range(N+1)]\n",
    "Vmatrix = [np.random.normal(0, np.sqrt(0.1), d) for x in range(M+1)]"
   ]
  },
  {
   "cell_type": "code",
   "execution_count": 4,
   "metadata": {},
   "outputs": [],
   "source": [
    "newN = len(ijpair)\n",
    "newM = len(jipair)"
   ]
  },
  {
   "cell_type": "code",
   "execution_count": 5,
   "metadata": {},
   "outputs": [],
   "source": [
    "#As Expectation-Maximization Algorithm indicates, we use iteration to update lnP(R,U,V).\n",
    "#Now begin iteration t = 1, 2, ..., T\n",
    "from scipy.stats import norm\n",
    "LNP = []\n",
    "for t in range(100):\n",
    "    #update Eqt[phi]\n",
    "    S1 = []\n",
    "    S2 = []\n",
    "    for key in dic:\n",
    "        i = key[0]\n",
    "        j = key[1]\n",
    "        r = dic[key]\n",
    "        dot = np.dot(Umatrix[i], Vmatrix[j])\n",
    "        sigma = 1\n",
    "        s = -dot/sigma\n",
    "        if r == 1: S1.append(s)\n",
    "        if r == -1: S2.append(s)\n",
    "    E1 = np.array(S1)*(-sigma)+sigma*norm.pdf(S1)/(1-norm.cdf(S1))\n",
    "    E2 = np.array(S2)*(-sigma)+sigma*(-1)*norm.pdf(S2)/norm.cdf(S2)\n",
    "    i1 = 0\n",
    "    i2 = 0\n",
    "    for key in dic:\n",
    "        r = dic[key]\n",
    "        if r == 1: \n",
    "            Edic[key] = E1[i1]\n",
    "            i1 = i1+1\n",
    "        if r == -1: \n",
    "            Edic[key] = E2[i2]\n",
    "            i2 = i2+1\n",
    "    \n",
    "    #update U\n",
    "    for uitem in ijpair:\n",
    "        c = 1\n",
    "        vsum = 0\n",
    "        vEsum = 0\n",
    "        for vitem in ijpair[uitem]:\n",
    "            vsum = vsum + np.outer(Vmatrix[vitem], Vmatrix[vitem])/(sigma)**2\n",
    "            vEsum = vEsum + Vmatrix[vitem] * Edic[(uitem, vitem)]/(sigma)**2\n",
    "        \n",
    "        Umatrix[uitem] = np.dot(np.linalg.inv((np.identity(d) + vsum)), vEsum)\n",
    "    \n",
    "    #update Eqt[phi] again\n",
    "    S1 = []\n",
    "    S2 = []\n",
    "    for key in dic:\n",
    "        i = key[0]\n",
    "        j = key[1]\n",
    "        r = dic[key]\n",
    "        dot = np.dot(Umatrix[i], Vmatrix[j])\n",
    "        sigma = 1\n",
    "        s = -dot/sigma\n",
    "        if r == 1: S1.append(s)\n",
    "        if r == -1: S2.append(s)\n",
    "    E1 = np.array(S1)*(-sigma)+sigma*norm.pdf(S1)/(1-norm.cdf(S1))\n",
    "    E2 = np.array(S2)*(-sigma)+sigma*(-1)*norm.pdf(S2)/norm.cdf(S2)\n",
    "    i1 = 0\n",
    "    i2 = 0\n",
    "    for key in dic:\n",
    "        r = dic[key]\n",
    "        if r == 1: \n",
    "            Edic[key] = E1[i1]\n",
    "            i1 = i1+1\n",
    "        if r == -1: \n",
    "            Edic[key] = E2[i2]\n",
    "            i2 = i2+1\n",
    "        \n",
    "    #update V\n",
    "    for vitem in jipair:\n",
    "        c = 1\n",
    "        usum = 0\n",
    "        uEsum = 0\n",
    "        for uitem in jipair[vitem]:\n",
    "            usum = usum + np.outer(Umatrix[uitem], Umatrix[uitem])/(sigma)**2\n",
    "            uEsum = uEsum + Umatrix[uitem] * Edic[(uitem, vitem)]/(sigma)**2\n",
    "        \n",
    "        Vmatrix[vitem] = np.dot(np.linalg.inv((np.identity(d) + usum)), uEsum)\n",
    "    \n",
    "    \n",
    "    #calculate lnP(R, U, V)\n",
    "    sum1 = -newN*d/2*np.log(2*np.pi*c)\n",
    "    sum2 = 0\n",
    "    for uitem in ijpair:\n",
    "        sum2 = sum2 - np.dot(Umatrix[uitem], Umatrix[uitem])/2/c\n",
    "    sum3 = -newM*d/2*np.log(2*np.pi*c)\n",
    "    sum4 = 0\n",
    "    for vitem in jipair:\n",
    "        sum4 = sum4 - np.dot(Vmatrix[vitem], Vmatrix[vitem])/2/c\n",
    "    sum5 = 0\n",
    "    S1 = []\n",
    "    S2 = []\n",
    "    for key in dic:\n",
    "        i = key[0]\n",
    "        j = key[1]\n",
    "        r = dic[key]\n",
    "        dot = np.dot(Umatrix[i], Vmatrix[j])\n",
    "        sigma = 1\n",
    "        s = dot/sigma\n",
    "        if r == 1: S1.append(s)\n",
    "        if r == -1: S2.append(s)\n",
    "    sum5 = sum5 + sum(np.log(norm.cdf(S1))) + sum(np.log(1-norm.cdf(S2)))\n",
    "    lnP = sum1 + sum2 + sum3 + sum4 + sum5\n",
    "    LNP.append(lnP)\n",
    "    "
   ]
  },
  {
   "cell_type": "code",
   "execution_count": 6,
   "metadata": {},
   "outputs": [
    {
     "data": {
      "text/plain": [
       "Text(0,0.5,'Ln P')"
      ]
     },
     "execution_count": 6,
     "metadata": {},
     "output_type": "execute_result"
    },
    {
     "data": {
      "image/png": "[encoded data removed]",
      "text/plain": [
       "<Figure size 1440x576 with 1 Axes>"
      ]
     },
     "metadata": {},
     "output_type": "display_data"
    }
   ],
   "source": [
    "#plot lnP(R,U,V) from iteration 2 to 100. It can be shown that the value of lnP(R,U,V) converges after\n",
    "#a long time iterations. \n",
    "%matplotlib inline\n",
    "import matplotlib.pyplot as plt\n",
    "plt.style.use('seaborn-whitegrid')\n",
    "plt.rcParams['figure.figsize'] = [20, 8]\n",
    "plt.xticks(fontsize=15)\n",
    "plt.yticks(fontsize=15)\n",
    "\n",
    "plt.plot(range(2,100), LNP[2:])\n",
    "plt.legend(['Iteration of Ln P from 2 to 100'], prop={'size': 20})\n",
    "plt.xlabel('Iteration', fontsize=15)\n",
    "plt.ylabel('Ln P', fontsize=15)"
   ]
  },
  {
   "cell_type": "code",
   "execution_count": 7,
   "metadata": {},
   "outputs": [
    {
     "name": "stdout",
     "output_type": "stream",
     "text": [
      "(2144, 590, 838, 1428)\n"
     ]
    }
   ],
   "source": [
    "#Use updated U, V to predict user preference and get the confusion matrix.\n",
    "npdata_test = data_test.values\n",
    "test_length = len(npdata_test)\n",
    "prediction_list = []\n",
    "#calculate lnP(rij, uij, vij)\n",
    "for i in range(test_length):\n",
    "    ui = npdata_test[i, 0]\n",
    "    vj = npdata_test[i, 1]\n",
    "    dot = np.dot(Umatrix[ui], Vmatrix[vj])\n",
    "    sigma = 1\n",
    "    s = dot/sigma\n",
    "    pr1 = np.log(norm.cdf(s))\n",
    "    pr2 = np.log(1-norm.cdf(s))\n",
    "    if pr1 > pr2:\n",
    "        prediction_list.append(1)\n",
    "    else: prediction_list.append(-1)\n",
    "        \n",
    "count_22 = 0 # ground-truth is -1, prediction is -1 \n",
    "count_21 = 0 # groud-truth is -1, prediction is 1\n",
    "count_12 = 0 # groud-truth is 1, prediction is -1\n",
    "count_11 = 0 # groud-truth is 1, prediciton is 1\n",
    "\n",
    "for i in range(test_length):\n",
    "    if npdata_test[i, 2] == 1 and prediction_list[i] == 1: count_11 = count_11 + 1\n",
    "    if npdata_test[i, 2] == 1 and prediction_list[i] == -1: count_12 = count_12 + 1\n",
    "    if npdata_test[i, 2] == -1 and prediction_list[i] == 1: count_21 = count_21 + 1\n",
    "    if npdata_test[i, 2] == -1 and prediction_list[i] == -1: count_22 = count_22 + 1\n",
    "    \n",
    "print (count_11, count_12, count_21, count_22)\n"
   ]
  },
  {
   "cell_type": "code",
   "execution_count": 8,
   "metadata": {},
   "outputs": [
    {
     "name": "stdout",
     "output_type": "stream",
     "text": [
      "0.7144\n"
     ]
    }
   ],
   "source": [
    "#Calculate accuracy of EM algorithm.\n",
    "accuracy = (count_11 + count_22)*1.0/(count_11 + count_12 + count_21 + count_22)\n",
    "print accuracy"
   ]
  }
 ],
 "metadata": {
  "kernelspec": {
   "display_name": "Python 2",
   "language": "python",
   "name": "python2"
  },
  "language_info": {
   "codemirror_mode": {
    "name": "ipython",
    "version": 2
   },
   "file_extension": ".py",
   "mimetype": "text/x-python",
   "name": "python",
   "nbconvert_exporter": "python",
   "pygments_lexer": "ipython2",
   "version": "2.7.15"
  }
 },
 "nbformat": 4,
 "nbformat_minor": 2
}
